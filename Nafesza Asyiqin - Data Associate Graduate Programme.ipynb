{
 "cells": [
  {
   "cell_type": "markdown",
   "id": "edce2629-668a-4a96-9886-f58d18f7e5bb",
   "metadata": {},
   "source": [
    "Part 1: Data Analysis"
   ]
  },
  {
   "cell_type": "markdown",
   "id": "bb6d9af6-03d0-4761-acf7-a61e1b9472de",
   "metadata": {},
   "source": [
    "1. Data Exploration & Cleansing"
   ]
  },
  {
   "cell_type": "markdown",
   "id": "fdb884ad-0ea1-4184-a85a-13932c1ed0c2",
   "metadata": {},
   "source": [
    "(a) Are there any data quality issues in the dataset? What steps would you take to clean or refine the data?"
   ]
  },
  {
   "cell_type": "code",
   "execution_count": 3,
   "id": "be02ec89-9e8d-44eb-afc8-e56842530408",
   "metadata": {},
   "outputs": [
    {
     "data": {
      "text/html": [
       "<div>\n",
       "<style scoped>\n",
       "    .dataframe tbody tr th:only-of-type {\n",
       "        vertical-align: middle;\n",
       "    }\n",
       "\n",
       "    .dataframe tbody tr th {\n",
       "        vertical-align: top;\n",
       "    }\n",
       "\n",
       "    .dataframe thead th {\n",
       "        text-align: right;\n",
       "    }\n",
       "</style>\n",
       "<table border=\"1\" class=\"dataframe\">\n",
       "  <thead>\n",
       "    <tr style=\"text-align: right;\">\n",
       "      <th></th>\n",
       "      <th>trn_no</th>\n",
       "      <th>acc_no</th>\n",
       "      <th>cus_no</th>\n",
       "      <th>brn_cd</th>\n",
       "      <th>trn_type</th>\n",
       "      <th>trn_dt</th>\n",
       "      <th>trn_time</th>\n",
       "      <th>amt</th>\n",
       "      <th>trn_desc</th>\n",
       "      <th>chn</th>\n",
       "      <th>gndr</th>\n",
       "      <th>age</th>\n",
       "    </tr>\n",
       "  </thead>\n",
       "  <tbody>\n",
       "    <tr>\n",
       "      <th>0</th>\n",
       "      <td>1000397185520021516</td>\n",
       "      <td>135566817347</td>\n",
       "      <td>6.911975e+09</td>\n",
       "      <td>449836</td>\n",
       "      <td>DEBIT</td>\n",
       "      <td>2023-06-10T00:00:00.000Z</td>\n",
       "      <td>150515</td>\n",
       "      <td>100.0</td>\n",
       "      <td>PAYMENT</td>\n",
       "      <td>IB</td>\n",
       "      <td>FEMALE</td>\n",
       "      <td>51.0</td>\n",
       "    </tr>\n",
       "    <tr>\n",
       "      <th>1</th>\n",
       "      <td>10009448378864689316</td>\n",
       "      <td>183264629830</td>\n",
       "      <td>9.919501e+09</td>\n",
       "      <td>339201</td>\n",
       "      <td>DEBIT</td>\n",
       "      <td>2023-07-11T00:00:00.000Z</td>\n",
       "      <td>33714</td>\n",
       "      <td>500.0</td>\n",
       "      <td>FUND TRANSFER</td>\n",
       "      <td>IB</td>\n",
       "      <td>MALE</td>\n",
       "      <td>53.0</td>\n",
       "    </tr>\n",
       "    <tr>\n",
       "      <th>2</th>\n",
       "      <td>10014592218323117335</td>\n",
       "      <td>463122589215</td>\n",
       "      <td>9.926739e+09</td>\n",
       "      <td>449836</td>\n",
       "      <td>DEBIT</td>\n",
       "      <td>2023-08-27T00:00:00.000Z</td>\n",
       "      <td>155150</td>\n",
       "      <td>300.0</td>\n",
       "      <td>PAYMENT</td>\n",
       "      <td>IB</td>\n",
       "      <td>FEMALE</td>\n",
       "      <td>53.0</td>\n",
       "    </tr>\n",
       "    <tr>\n",
       "      <th>3</th>\n",
       "      <td>10017545544944981640</td>\n",
       "      <td>461697795470</td>\n",
       "      <td>4.349273e+09</td>\n",
       "      <td>339201</td>\n",
       "      <td>CREDIT</td>\n",
       "      <td>2023-07-29T00:00:00.000Z</td>\n",
       "      <td>215843</td>\n",
       "      <td>5000.0</td>\n",
       "      <td>FUND TRANSFER</td>\n",
       "      <td>IB</td>\n",
       "      <td>MALE</td>\n",
       "      <td>56.0</td>\n",
       "    </tr>\n",
       "    <tr>\n",
       "      <th>4</th>\n",
       "      <td>10026211495480008202</td>\n",
       "      <td>513072841203</td>\n",
       "      <td>5.591584e+09</td>\n",
       "      <td>449836</td>\n",
       "      <td>CREDIT</td>\n",
       "      <td>2023-07-28T00:00:00.000Z</td>\n",
       "      <td>125259</td>\n",
       "      <td>70.0</td>\n",
       "      <td>FUND TRANSFER</td>\n",
       "      <td>IB</td>\n",
       "      <td>MALE</td>\n",
       "      <td>48.0</td>\n",
       "    </tr>\n",
       "  </tbody>\n",
       "</table>\n",
       "</div>"
      ],
      "text/plain": [
       "                 trn_no        acc_no        cus_no  brn_cd trn_type  \\\n",
       "0   1000397185520021516  135566817347  6.911975e+09  449836    DEBIT   \n",
       "1  10009448378864689316  183264629830  9.919501e+09  339201    DEBIT   \n",
       "2  10014592218323117335  463122589215  9.926739e+09  449836    DEBIT   \n",
       "3  10017545544944981640  461697795470  4.349273e+09  339201   CREDIT   \n",
       "4  10026211495480008202  513072841203  5.591584e+09  449836   CREDIT   \n",
       "\n",
       "                     trn_dt  trn_time     amt       trn_desc chn    gndr   age  \n",
       "0  2023-06-10T00:00:00.000Z    150515   100.0        PAYMENT  IB  FEMALE  51.0  \n",
       "1  2023-07-11T00:00:00.000Z     33714   500.0  FUND TRANSFER  IB    MALE  53.0  \n",
       "2  2023-08-27T00:00:00.000Z    155150   300.0        PAYMENT  IB  FEMALE  53.0  \n",
       "3  2023-07-29T00:00:00.000Z    215843  5000.0  FUND TRANSFER  IB    MALE  56.0  \n",
       "4  2023-07-28T00:00:00.000Z    125259    70.0  FUND TRANSFER  IB    MALE  48.0  "
      ]
     },
     "execution_count": 3,
     "metadata": {},
     "output_type": "execute_result"
    }
   ],
   "source": [
    "# Step 1: Load dataset\n",
    "import os\n",
    "import pandas as pd\n",
    "file_path = 'Downloads/dummy dataset.txt'\n",
    "data = pd.read_csv(file_path, sep = \"|\")\n",
    "\n",
    "#Display sample data\n",
    "data.head()"
   ]
  },
  {
   "cell_type": "code",
   "execution_count": 4,
   "id": "49bb5d78-884e-47a9-9b4f-c10293c8d682",
   "metadata": {},
   "outputs": [
    {
     "data": {
      "text/plain": [
       "trn_no        0\n",
       "acc_no        0\n",
       "cus_no        2\n",
       "brn_cd        0\n",
       "trn_type      0\n",
       "trn_dt        0\n",
       "trn_time      0\n",
       "amt           0\n",
       "trn_desc      0\n",
       "chn         419\n",
       "gndr          3\n",
       "age           2\n",
       "dtype: int64"
      ]
     },
     "execution_count": 4,
     "metadata": {},
     "output_type": "execute_result"
    }
   ],
   "source": [
    "#Step 2: Checking for missing values\n",
    "missing_values=data.isnull().sum()\n",
    "missing_values"
   ]
  },
  {
   "cell_type": "code",
   "execution_count": 7,
   "id": "98e3abce-0e58-4934-89a6-c7608fa29bbf",
   "metadata": {},
   "outputs": [],
   "source": [
    "# Step 3: Handle missing values\n",
    "data.dropna(subset=['cus_no'], inplace=True)\n",
    "data['chn'] = data['chn'].fillna(data['chn'].mode()[0])\n",
    "data['gndr'] = data['gndr'].fillna(data['gndr'].mode()[0])\n",
    "data['age'] = data['age'].fillna(data['age'].median())"
   ]
  },
  {
   "cell_type": "code",
   "execution_count": 8,
   "id": "771cfe30-0b67-4e3e-acde-726e201a88c6",
   "metadata": {},
   "outputs": [
    {
     "data": {
      "text/plain": [
       "4980"
      ]
     },
     "execution_count": 8,
     "metadata": {},
     "output_type": "execute_result"
    }
   ],
   "source": [
    "#Step 4: Checking for duplicate values\n",
    "duplicate_values=data[data.duplicated()]\n",
    "len(duplicate_values)"
   ]
  },
  {
   "cell_type": "code",
   "execution_count": 9,
   "id": "e022b1fc-68e2-424d-82ec-fa9f76c3f6d4",
   "metadata": {},
   "outputs": [
    {
     "data": {
      "text/html": [
       "<div>\n",
       "<style scoped>\n",
       "    .dataframe tbody tr th:only-of-type {\n",
       "        vertical-align: middle;\n",
       "    }\n",
       "\n",
       "    .dataframe tbody tr th {\n",
       "        vertical-align: top;\n",
       "    }\n",
       "\n",
       "    .dataframe thead th {\n",
       "        text-align: right;\n",
       "    }\n",
       "</style>\n",
       "<table border=\"1\" class=\"dataframe\">\n",
       "  <thead>\n",
       "    <tr style=\"text-align: right;\">\n",
       "      <th></th>\n",
       "      <th>trn_no</th>\n",
       "      <th>acc_no</th>\n",
       "      <th>cus_no</th>\n",
       "      <th>brn_cd</th>\n",
       "      <th>trn_type</th>\n",
       "      <th>trn_dt</th>\n",
       "      <th>trn_time</th>\n",
       "      <th>amt</th>\n",
       "      <th>trn_desc</th>\n",
       "      <th>chn</th>\n",
       "      <th>gndr</th>\n",
       "      <th>age</th>\n",
       "    </tr>\n",
       "  </thead>\n",
       "  <tbody>\n",
       "    <tr>\n",
       "      <th>0</th>\n",
       "      <td>1000397185520021516</td>\n",
       "      <td>135566817347</td>\n",
       "      <td>6.911975e+09</td>\n",
       "      <td>449836</td>\n",
       "      <td>DEBIT</td>\n",
       "      <td>2023-06-10T00:00:00.000Z</td>\n",
       "      <td>150515</td>\n",
       "      <td>100.0</td>\n",
       "      <td>PAYMENT</td>\n",
       "      <td>IB</td>\n",
       "      <td>FEMALE</td>\n",
       "      <td>51.0</td>\n",
       "    </tr>\n",
       "    <tr>\n",
       "      <th>1</th>\n",
       "      <td>10009448378864689316</td>\n",
       "      <td>183264629830</td>\n",
       "      <td>9.919501e+09</td>\n",
       "      <td>339201</td>\n",
       "      <td>DEBIT</td>\n",
       "      <td>2023-07-11T00:00:00.000Z</td>\n",
       "      <td>33714</td>\n",
       "      <td>500.0</td>\n",
       "      <td>FUND TRANSFER</td>\n",
       "      <td>IB</td>\n",
       "      <td>MALE</td>\n",
       "      <td>53.0</td>\n",
       "    </tr>\n",
       "    <tr>\n",
       "      <th>2</th>\n",
       "      <td>10014592218323117335</td>\n",
       "      <td>463122589215</td>\n",
       "      <td>9.926739e+09</td>\n",
       "      <td>449836</td>\n",
       "      <td>DEBIT</td>\n",
       "      <td>2023-08-27T00:00:00.000Z</td>\n",
       "      <td>155150</td>\n",
       "      <td>300.0</td>\n",
       "      <td>PAYMENT</td>\n",
       "      <td>IB</td>\n",
       "      <td>FEMALE</td>\n",
       "      <td>53.0</td>\n",
       "    </tr>\n",
       "    <tr>\n",
       "      <th>3</th>\n",
       "      <td>10017545544944981640</td>\n",
       "      <td>461697795470</td>\n",
       "      <td>4.349273e+09</td>\n",
       "      <td>339201</td>\n",
       "      <td>CREDIT</td>\n",
       "      <td>2023-07-29T00:00:00.000Z</td>\n",
       "      <td>215843</td>\n",
       "      <td>5000.0</td>\n",
       "      <td>FUND TRANSFER</td>\n",
       "      <td>IB</td>\n",
       "      <td>MALE</td>\n",
       "      <td>56.0</td>\n",
       "    </tr>\n",
       "    <tr>\n",
       "      <th>4</th>\n",
       "      <td>10026211495480008202</td>\n",
       "      <td>513072841203</td>\n",
       "      <td>5.591584e+09</td>\n",
       "      <td>449836</td>\n",
       "      <td>CREDIT</td>\n",
       "      <td>2023-07-28T00:00:00.000Z</td>\n",
       "      <td>125259</td>\n",
       "      <td>70.0</td>\n",
       "      <td>FUND TRANSFER</td>\n",
       "      <td>IB</td>\n",
       "      <td>MALE</td>\n",
       "      <td>48.0</td>\n",
       "    </tr>\n",
       "  </tbody>\n",
       "</table>\n",
       "</div>"
      ],
      "text/plain": [
       "                 trn_no        acc_no        cus_no  brn_cd trn_type  \\\n",
       "0   1000397185520021516  135566817347  6.911975e+09  449836    DEBIT   \n",
       "1  10009448378864689316  183264629830  9.919501e+09  339201    DEBIT   \n",
       "2  10014592218323117335  463122589215  9.926739e+09  449836    DEBIT   \n",
       "3  10017545544944981640  461697795470  4.349273e+09  339201   CREDIT   \n",
       "4  10026211495480008202  513072841203  5.591584e+09  449836   CREDIT   \n",
       "\n",
       "                     trn_dt  trn_time     amt       trn_desc chn    gndr   age  \n",
       "0  2023-06-10T00:00:00.000Z    150515   100.0        PAYMENT  IB  FEMALE  51.0  \n",
       "1  2023-07-11T00:00:00.000Z     33714   500.0  FUND TRANSFER  IB    MALE  53.0  \n",
       "2  2023-08-27T00:00:00.000Z    155150   300.0        PAYMENT  IB  FEMALE  53.0  \n",
       "3  2023-07-29T00:00:00.000Z    215843  5000.0  FUND TRANSFER  IB    MALE  56.0  \n",
       "4  2023-07-28T00:00:00.000Z    125259    70.0  FUND TRANSFER  IB    MALE  48.0  "
      ]
     },
     "execution_count": 9,
     "metadata": {},
     "output_type": "execute_result"
    }
   ],
   "source": [
    "# Step 5: Remove duplicate values\n",
    "data = data.drop_duplicates()\n",
    "data.head()"
   ]
  },
  {
   "cell_type": "code",
   "execution_count": 10,
   "id": "6950e347-2f8d-4599-a7a6-4e60917afcb4",
   "metadata": {},
   "outputs": [
    {
     "name": "stdout",
     "output_type": "stream",
     "text": [
      "Data Type:\n",
      " trn_no       object\n",
      "acc_no        int64\n",
      "cus_no      float64\n",
      "brn_cd        int64\n",
      "trn_type     object\n",
      "trn_dt       object\n",
      "trn_time      int64\n",
      "amt         float64\n",
      "trn_desc     object\n",
      "chn          object\n",
      "gndr         object\n",
      "age         float64\n",
      "dtype: object\n"
     ]
    }
   ],
   "source": [
    "#Step 6: Checking for data types\n",
    "print(\"Data Type:\\n\",data.dtypes)"
   ]
  },
  {
   "cell_type": "code",
   "execution_count": 11,
   "id": "84d5c4d9-6512-4a08-bfbc-41d29b16fab0",
   "metadata": {},
   "outputs": [
    {
     "name": "stdout",
     "output_type": "stream",
     "text": [
      "trn_no                   object\n",
      "acc_no                    int64\n",
      "cus_no                    int64\n",
      "brn_cd                    int64\n",
      "trn_type                 object\n",
      "trn_dt      datetime64[ns, UTC]\n",
      "trn_time                  int64\n",
      "amt                     float64\n",
      "trn_desc                 object\n",
      "chn                      object\n",
      "gndr                     object\n",
      "age                       int64\n",
      "dtype: object\n"
     ]
    }
   ],
   "source": [
    "# Step 7: Converting data types\n",
    "data['trn_dt'] = pd.to_datetime(data['trn_dt'])\n",
    "data['cus_no'] = data['cus_no'].astype('int64')\n",
    "data['age'] = data['age'].astype('int64')\n",
    "print(data.dtypes)"
   ]
  },
  {
   "cell_type": "markdown",
   "id": "da6974dd-c098-46bc-a064-f7b577e2b017",
   "metadata": {},
   "source": [
    "Summary : \n",
    "\n",
    "- The dataset contains missing values in the cus_no, chn, gndr, and age columns.\n",
    "- To clean the data:\n",
    "    1. Rows with missing cus_no were dropped as it's important for identifying transactions\n",
    "    2. Missing values in chn and gndr were filled with respective modes\n",
    "    3. Missing age values were replaced with median\n",
    "    4. Duplicates were removed to ensure data consistency.\n",
    "    5. Data types were adjusted, such as converting trn_dt to datetime and correcting numerical columns to the proper type."
   ]
  },
  {
   "cell_type": "markdown",
   "id": "202ad35b-c6cb-41e4-b738-08a014a3d88e",
   "metadata": {},
   "source": [
    "(b) What are the key characteristics of the dataset? Summarise the distribution of transactions, key statistics, and any anomalies you notice."
   ]
  },
  {
   "cell_type": "markdown",
   "id": "6ebedf8b-7f68-4536-89b3-3f095ec2a5f6",
   "metadata": {},
   "source": [
    "1. Key Statistic"
   ]
  },
  {
   "cell_type": "code",
   "execution_count": 14,
   "id": "44093f28-51bb-4c19-a0a8-9a6be540bf37",
   "metadata": {},
   "outputs": [
    {
     "data": {
      "text/html": [
       "<div>\n",
       "<style scoped>\n",
       "    .dataframe tbody tr th:only-of-type {\n",
       "        vertical-align: middle;\n",
       "    }\n",
       "\n",
       "    .dataframe tbody tr th {\n",
       "        vertical-align: top;\n",
       "    }\n",
       "\n",
       "    .dataframe thead th {\n",
       "        text-align: right;\n",
       "    }\n",
       "</style>\n",
       "<table border=\"1\" class=\"dataframe\">\n",
       "  <thead>\n",
       "    <tr style=\"text-align: right;\">\n",
       "      <th></th>\n",
       "      <th>acc_no</th>\n",
       "      <th>cus_no</th>\n",
       "      <th>brn_cd</th>\n",
       "      <th>trn_time</th>\n",
       "      <th>amt</th>\n",
       "      <th>age</th>\n",
       "    </tr>\n",
       "  </thead>\n",
       "  <tbody>\n",
       "    <tr>\n",
       "      <th>count</th>\n",
       "      <td>1.565700e+04</td>\n",
       "      <td>1.565700e+04</td>\n",
       "      <td>15657.000000</td>\n",
       "      <td>15657.000000</td>\n",
       "      <td>15657.000000</td>\n",
       "      <td>15657.000000</td>\n",
       "    </tr>\n",
       "    <tr>\n",
       "      <th>mean</th>\n",
       "      <td>5.596690e+11</td>\n",
       "      <td>5.261938e+09</td>\n",
       "      <td>453604.062209</td>\n",
       "      <td>146072.835217</td>\n",
       "      <td>841.693246</td>\n",
       "      <td>51.447212</td>\n",
       "    </tr>\n",
       "    <tr>\n",
       "      <th>std</th>\n",
       "      <td>2.440171e+11</td>\n",
       "      <td>2.570458e+09</td>\n",
       "      <td>121589.711877</td>\n",
       "      <td>48228.634314</td>\n",
       "      <td>1639.206096</td>\n",
       "      <td>8.169194</td>\n",
       "    </tr>\n",
       "    <tr>\n",
       "      <th>min</th>\n",
       "      <td>1.165820e+11</td>\n",
       "      <td>1.027662e+09</td>\n",
       "      <td>143953.000000</td>\n",
       "      <td>32249.000000</td>\n",
       "      <td>0.100000</td>\n",
       "      <td>25.000000</td>\n",
       "    </tr>\n",
       "    <tr>\n",
       "      <th>25%</th>\n",
       "      <td>3.516733e+11</td>\n",
       "      <td>2.854104e+09</td>\n",
       "      <td>339201.000000</td>\n",
       "      <td>110019.000000</td>\n",
       "      <td>65.900000</td>\n",
       "      <td>46.000000</td>\n",
       "    </tr>\n",
       "    <tr>\n",
       "      <th>50%</th>\n",
       "      <td>5.379387e+11</td>\n",
       "      <td>4.825469e+09</td>\n",
       "      <td>449836.000000</td>\n",
       "      <td>144506.000000</td>\n",
       "      <td>200.000000</td>\n",
       "      <td>52.000000</td>\n",
       "    </tr>\n",
       "    <tr>\n",
       "      <th>75%</th>\n",
       "      <td>7.432619e+11</td>\n",
       "      <td>7.513228e+09</td>\n",
       "      <td>449836.000000</td>\n",
       "      <td>185229.000000</td>\n",
       "      <td>780.000000</td>\n",
       "      <td>57.000000</td>\n",
       "    </tr>\n",
       "    <tr>\n",
       "      <th>max</th>\n",
       "      <td>9.894913e+11</td>\n",
       "      <td>9.926739e+09</td>\n",
       "      <td>732189.000000</td>\n",
       "      <td>235742.000000</td>\n",
       "      <td>10000.000000</td>\n",
       "      <td>73.000000</td>\n",
       "    </tr>\n",
       "  </tbody>\n",
       "</table>\n",
       "</div>"
      ],
      "text/plain": [
       "             acc_no        cus_no         brn_cd       trn_time           amt  \\\n",
       "count  1.565700e+04  1.565700e+04   15657.000000   15657.000000  15657.000000   \n",
       "mean   5.596690e+11  5.261938e+09  453604.062209  146072.835217    841.693246   \n",
       "std    2.440171e+11  2.570458e+09  121589.711877   48228.634314   1639.206096   \n",
       "min    1.165820e+11  1.027662e+09  143953.000000   32249.000000      0.100000   \n",
       "25%    3.516733e+11  2.854104e+09  339201.000000  110019.000000     65.900000   \n",
       "50%    5.379387e+11  4.825469e+09  449836.000000  144506.000000    200.000000   \n",
       "75%    7.432619e+11  7.513228e+09  449836.000000  185229.000000    780.000000   \n",
       "max    9.894913e+11  9.926739e+09  732189.000000  235742.000000  10000.000000   \n",
       "\n",
       "                age  \n",
       "count  15657.000000  \n",
       "mean      51.447212  \n",
       "std        8.169194  \n",
       "min       25.000000  \n",
       "25%       46.000000  \n",
       "50%       52.000000  \n",
       "75%       57.000000  \n",
       "max       73.000000  "
      ]
     },
     "execution_count": 14,
     "metadata": {},
     "output_type": "execute_result"
    }
   ],
   "source": [
    "# Summary statistics for numerical columns\n",
    "#- For columns: `acc_no`, `cus_no`, and `brn_cd` even though they are stored as integers,these columns are not suitable for statistical interpretation \n",
    "data.describe()"
   ]
  },
  {
   "cell_type": "code",
   "execution_count": 15,
   "id": "34b40a6d-a5ef-40dc-9022-2529e0c747b4",
   "metadata": {},
   "outputs": [
    {
     "name": "stdout",
     "output_type": "stream",
     "text": [
      "Transaction type: \n",
      " trn_type\n",
      "DEBIT     12002\n",
      "CREDIT     3655\n",
      "Name: count, dtype: int64\n",
      "Channel: \n",
      " chn\n",
      "IB             12419\n",
      "MEPS            1189\n",
      "POS             1113\n",
      "FPX              727\n",
      "BRNCH / ATM      209\n",
      "Name: count, dtype: int64\n",
      "Gender: \n",
      " gndr\n",
      "MALE      10196\n",
      "FEMALE     5461\n",
      "Name: count, dtype: int64\n"
     ]
    }
   ],
   "source": [
    "#Summary statistics for categorical columns\n",
    "print(\"Transaction type: \\n\",data['trn_type'].value_counts())\n",
    "print(\"Channel: \\n\",data['chn'].value_counts())\n",
    "print(\"Gender: \\n\",data['gndr'].value_counts())"
   ]
  },
  {
   "cell_type": "code",
   "execution_count": 16,
   "id": "4bd4ad3b-4e5d-4b2a-8b61-e3d7bb8ac70b",
   "metadata": {},
   "outputs": [
    {
     "data": {
      "text/plain": [
       "trn_no      0\n",
       "acc_no      0\n",
       "cus_no      0\n",
       "brn_cd      0\n",
       "trn_type    0\n",
       "trn_dt      0\n",
       "trn_time    0\n",
       "amt         0\n",
       "trn_desc    0\n",
       "chn         0\n",
       "gndr        0\n",
       "age         0\n",
       "dtype: int64"
      ]
     },
     "execution_count": 16,
     "metadata": {},
     "output_type": "execute_result"
    }
   ],
   "source": [
    "#Missing values\n",
    "data.isnull().sum()"
   ]
  },
  {
   "cell_type": "markdown",
   "id": "34a49b5b-e9d1-41cd-9b2f-bf2f38180bcf",
   "metadata": {},
   "source": [
    "2. Summary of Distribution of Transaction"
   ]
  },
  {
   "cell_type": "code",
   "execution_count": 17,
   "id": "13ca2fd0-0406-4d44-9f11-9425b37df16a",
   "metadata": {},
   "outputs": [
    {
     "data": {
      "image/png": "[encoded data removed]",
      "text/plain": [
       "<Figure size 400x200 with 1 Axes>"
      ]
     },
     "metadata": {},
     "output_type": "display_data"
    }
   ],
   "source": [
    "import matplotlib.pyplot as plt\n",
    "import seaborn as sns\n",
    "\n",
    "plt.figure(figsize=(4,2))\n",
    "sns.histplot(data['amt'], kde=True)\n",
    "plt.title('Distribution of Transaction Amounts')\n",
    "plt.xlabel('Amount')\n",
    "plt.ylabel('Frequency')\n",
    "plt.show()"
   ]
  },
  {
   "cell_type": "code",
   "execution_count": 18,
   "id": "ac7d1812-a48a-4fad-b0f2-f19c92ab30cc",
   "metadata": {},
   "outputs": [
    {
     "data": {
      "text/html": [
       "<div>\n",
       "<style scoped>\n",
       "    .dataframe tbody tr th:only-of-type {\n",
       "        vertical-align: middle;\n",
       "    }\n",
       "\n",
       "    .dataframe tbody tr th {\n",
       "        vertical-align: top;\n",
       "    }\n",
       "\n",
       "    .dataframe thead th {\n",
       "        text-align: right;\n",
       "    }\n",
       "</style>\n",
       "<table border=\"1\" class=\"dataframe\">\n",
       "  <thead>\n",
       "    <tr style=\"text-align: right;\">\n",
       "      <th></th>\n",
       "      <th>count</th>\n",
       "      <th>mean</th>\n",
       "      <th>std</th>\n",
       "      <th>min</th>\n",
       "      <th>25%</th>\n",
       "      <th>50%</th>\n",
       "      <th>75%</th>\n",
       "      <th>max</th>\n",
       "    </tr>\n",
       "    <tr>\n",
       "      <th>trn_type</th>\n",
       "      <th></th>\n",
       "      <th></th>\n",
       "      <th></th>\n",
       "      <th></th>\n",
       "      <th></th>\n",
       "      <th></th>\n",
       "      <th></th>\n",
       "      <th></th>\n",
       "    </tr>\n",
       "  </thead>\n",
       "  <tbody>\n",
       "    <tr>\n",
       "      <th>CREDIT</th>\n",
       "      <td>3655.0</td>\n",
       "      <td>1397.715461</td>\n",
       "      <td>2207.560144</td>\n",
       "      <td>0.1</td>\n",
       "      <td>126.0</td>\n",
       "      <td>480.000</td>\n",
       "      <td>1500.0</td>\n",
       "      <td>10000.0</td>\n",
       "    </tr>\n",
       "    <tr>\n",
       "      <th>DEBIT</th>\n",
       "      <td>12002.0</td>\n",
       "      <td>672.366367</td>\n",
       "      <td>1377.936374</td>\n",
       "      <td>0.1</td>\n",
       "      <td>55.0</td>\n",
       "      <td>167.125</td>\n",
       "      <td>540.0</td>\n",
       "      <td>10000.0</td>\n",
       "    </tr>\n",
       "  </tbody>\n",
       "</table>\n",
       "</div>"
      ],
      "text/plain": [
       "            count         mean          std  min    25%      50%     75%  \\\n",
       "trn_type                                                                   \n",
       "CREDIT     3655.0  1397.715461  2207.560144  0.1  126.0  480.000  1500.0   \n",
       "DEBIT     12002.0   672.366367  1377.936374  0.1   55.0  167.125   540.0   \n",
       "\n",
       "              max  \n",
       "trn_type           \n",
       "CREDIT    10000.0  \n",
       "DEBIT     10000.0  "
      ]
     },
     "execution_count": 18,
     "metadata": {},
     "output_type": "execute_result"
    }
   ],
   "source": [
    "#Grouping by transaction type\n",
    "data.groupby('trn_type')['amt'].describe()"
   ]
  },
  {
   "cell_type": "code",
   "execution_count": 19,
   "id": "7ce75f05-079c-4f67-9c65-f9c7456a78d0",
   "metadata": {},
   "outputs": [
    {
     "data": {
      "text/html": [
       "<div>\n",
       "<style scoped>\n",
       "    .dataframe tbody tr th:only-of-type {\n",
       "        vertical-align: middle;\n",
       "    }\n",
       "\n",
       "    .dataframe tbody tr th {\n",
       "        vertical-align: top;\n",
       "    }\n",
       "\n",
       "    .dataframe thead th {\n",
       "        text-align: right;\n",
       "    }\n",
       "</style>\n",
       "<table border=\"1\" class=\"dataframe\">\n",
       "  <thead>\n",
       "    <tr style=\"text-align: right;\">\n",
       "      <th></th>\n",
       "      <th>count</th>\n",
       "      <th>mean</th>\n",
       "      <th>std</th>\n",
       "      <th>min</th>\n",
       "      <th>25%</th>\n",
       "      <th>50%</th>\n",
       "      <th>75%</th>\n",
       "      <th>max</th>\n",
       "    </tr>\n",
       "    <tr>\n",
       "      <th>chn</th>\n",
       "      <th></th>\n",
       "      <th></th>\n",
       "      <th></th>\n",
       "      <th></th>\n",
       "      <th></th>\n",
       "      <th></th>\n",
       "      <th></th>\n",
       "      <th></th>\n",
       "    </tr>\n",
       "  </thead>\n",
       "  <tbody>\n",
       "    <tr>\n",
       "      <th>BRNCH / ATM</th>\n",
       "      <td>209.0</td>\n",
       "      <td>3303.129187</td>\n",
       "      <td>2725.372866</td>\n",
       "      <td>10.00</td>\n",
       "      <td>1000.0</td>\n",
       "      <td>2800.00</td>\n",
       "      <td>5000.0</td>\n",
       "      <td>10000.0</td>\n",
       "    </tr>\n",
       "    <tr>\n",
       "      <th>FPX</th>\n",
       "      <td>727.0</td>\n",
       "      <td>484.692779</td>\n",
       "      <td>1674.915875</td>\n",
       "      <td>1.00</td>\n",
       "      <td>42.4</td>\n",
       "      <td>98.00</td>\n",
       "      <td>195.5</td>\n",
       "      <td>10000.0</td>\n",
       "    </tr>\n",
       "    <tr>\n",
       "      <th>IB</th>\n",
       "      <td>12419.0</td>\n",
       "      <td>952.774760</td>\n",
       "      <td>1692.295783</td>\n",
       "      <td>0.10</td>\n",
       "      <td>100.0</td>\n",
       "      <td>300.00</td>\n",
       "      <td>1000.0</td>\n",
       "      <td>10000.0</td>\n",
       "    </tr>\n",
       "    <tr>\n",
       "      <th>MEPS</th>\n",
       "      <td>1189.0</td>\n",
       "      <td>152.319571</td>\n",
       "      <td>412.616737</td>\n",
       "      <td>1.00</td>\n",
       "      <td>27.0</td>\n",
       "      <td>66.80</td>\n",
       "      <td>145.0</td>\n",
       "      <td>10000.0</td>\n",
       "    </tr>\n",
       "    <tr>\n",
       "      <th>POS</th>\n",
       "      <td>1113.0</td>\n",
       "      <td>109.656595</td>\n",
       "      <td>204.727384</td>\n",
       "      <td>0.55</td>\n",
       "      <td>29.9</td>\n",
       "      <td>52.65</td>\n",
       "      <td>100.0</td>\n",
       "      <td>2699.0</td>\n",
       "    </tr>\n",
       "  </tbody>\n",
       "</table>\n",
       "</div>"
      ],
      "text/plain": [
       "               count         mean          std    min     25%      50%  \\\n",
       "chn                                                                      \n",
       "BRNCH / ATM    209.0  3303.129187  2725.372866  10.00  1000.0  2800.00   \n",
       "FPX            727.0   484.692779  1674.915875   1.00    42.4    98.00   \n",
       "IB           12419.0   952.774760  1692.295783   0.10   100.0   300.00   \n",
       "MEPS          1189.0   152.319571   412.616737   1.00    27.0    66.80   \n",
       "POS           1113.0   109.656595   204.727384   0.55    29.9    52.65   \n",
       "\n",
       "                75%      max  \n",
       "chn                           \n",
       "BRNCH / ATM  5000.0  10000.0  \n",
       "FPX           195.5  10000.0  \n",
       "IB           1000.0  10000.0  \n",
       "MEPS          145.0  10000.0  \n",
       "POS           100.0   2699.0  "
      ]
     },
     "execution_count": 19,
     "metadata": {},
     "output_type": "execute_result"
    }
   ],
   "source": [
    "#Grouping by channel\n",
    "data.groupby('chn')['amt'].describe()"
   ]
  },
  {
   "cell_type": "markdown",
   "id": "c613d1f9-b5cd-4572-90b8-207794bcdbf6",
   "metadata": {},
   "source": [
    "3. Identify anomalies"
   ]
  },
  {
   "cell_type": "code",
   "execution_count": 20,
   "id": "2d9104eb-c248-4c57-8943-299511e4bb86",
   "metadata": {},
   "outputs": [
    {
     "data": {
      "image/png": "[encoded data removed]",
      "text/plain": [
       "<Figure size 400x200 with 1 Axes>"
      ]
     },
     "metadata": {},
     "output_type": "display_data"
    },
    {
     "data": {
      "image/png": "[encoded data removed]",
      "text/plain": [
       "<Figure size 400x200 with 1 Axes>"
      ]
     },
     "metadata": {},
     "output_type": "display_data"
    }
   ],
   "source": [
    "#Box plot for transaction amount \n",
    "plt.figure(figsize=(4,2))\n",
    "sns.boxplot(data['amt'])\n",
    "plt.title('Boxplot for Transaction Amount')\n",
    "plt.show()\n",
    "\n",
    "#Box plot for age\n",
    "plt.figure(figsize=(4,2))\n",
    "sns.boxplot(data['age'])\n",
    "plt.title('Boxplot for age')\n",
    "plt.show()"
   ]
  },
  {
   "cell_type": "markdown",
   "id": "46eef895-946e-4213-a05c-eabe2fa3e4bf",
   "metadata": {},
   "source": [
    "Summary:\n",
    "\n",
    "1. Key Characteristics\n",
    "    - Dataset Focus: Transaction amounts (amt)\n",
    "    - Variables: For example includes cus_no (customer ID), amt (transaction amount), and trn_dt(transaction date).\n",
    "    - Scale: Amounts that range from RM 0 to RM 10,000 (based on boxplot).\n",
    "2. Distribution of Transactions\n",
    "    - Majority Small Transactions: Most transactions are low-value (concentrated between RM0– RM2,500).\n",
    "    - Median (~RM1,000) << Mean (likely skewed by outliers).\n",
    "    - Right-Skewed: Long tail of few large transactions (up to RM 10,000).\n",
    "3. Key Statistics\n",
    "    - Median is approximately RM 1,000 where 50% of transactions below this.\n",
    "    - Interquartile is approximately between RM 500 and RM2,500\twhere middle 50% of transactions.\n",
    "    - Outliers is more than RM 7,500 where it is extremely high-value transactions.\n",
    "4. Anomalies Detection\n",
    "    - High-value outliers detected (based on boxplot)where transactions above RM 7,500 are rare. These are potentially fraud, bulk purchases, or errors.\n",
    "5. Business Implications\n",
    "    - Fraud Risk: Investigate outliers (>RM 7,500) for legitimacy.\n",
    "    - Customer Segmentation:\n",
    "        - Many small transactions may be represented by individuals\n",
    "        - Few large transactions may be represented by the B2B or wholesale clients.\n"
   ]
  },
  {
   "cell_type": "markdown",
   "id": "5993d1e8-70b5-4871-abd7-8b5ffffde8da",
   "metadata": {},
   "source": [
    "2. Transaction Volume & Trends"
   ]
  },
  {
   "cell_type": "markdown",
   "id": "7b76e713-e9dc-465f-99e1-874c3db4e480",
   "metadata": {},
   "source": [
    "    (a) What is the average transaction amount? How many transactions do customers make per month on average?"
   ]
  },
  {
   "cell_type": "code",
   "execution_count": 23,
   "id": "dbeea8e4-af80-4267-8f57-a1d901c476b7",
   "metadata": {},
   "outputs": [
    {
     "name": "stdout",
     "output_type": "stream",
     "text": [
      "Average transaction amount:  841.693245832535\n",
      "Transaction per month on average: 5219.0\n"
     ]
    },
    {
     "name": "stderr",
     "output_type": "stream",
     "text": [
      "C:\\Users\\NurNafeszaAsyiqinbin\\AppData\\Local\\Temp\\ipykernel_4856\\3937848972.py:5: UserWarning: Converting to PeriodArray/Index representation will drop timezone information.\n",
      "  data['month_year'] = data['trn_dt'].dt.to_period('M')  # Group by month\n"
     ]
    }
   ],
   "source": [
    "#Average transaction amount\n",
    "print('Average transaction amount: ',data['amt'].mean())\n",
    "\n",
    "#How many transaction per month on average\n",
    "data['month_year'] = data['trn_dt'].dt.to_period('M')  # Group by month\n",
    "\n",
    "MonthlyTransaction = data.groupby('month_year').size() # Count number of transactions per month\n",
    "\n",
    "AvgTransactionPerMonth = MonthlyTransaction.mean() # Calculate the average\n",
    "\n",
    "print('Transaction per month on average:', AvgTransactionPerMonth)"
   ]
  },
  {
   "cell_type": "raw",
   "id": "8f95ce7a-3e8f-4ace-8f36-8c3ecf85dc7b",
   "metadata": {},
   "source": [
    "(b) Visualise transaction volume across different time periods. Are there any patterns in spending behaviour during specific times of the day or week?"
   ]
  },
  {
   "cell_type": "code",
   "execution_count": 24,
   "id": "05ffa099-91c1-4f48-b904-7dea5ac328d7",
   "metadata": {},
   "outputs": [
    {
     "data": {
      "image/png": "[encoded data removed]",
      "text/plain": [
       "<Figure size 400x200 with 1 Axes>"
      ]
     },
     "metadata": {},
     "output_type": "display_data"
    },
    {
     "data": {
      "image/png": "[encoded data removed]",
      "text/plain": [
       "<Figure size 400x200 with 1 Axes>"
      ]
     },
     "metadata": {},
     "output_type": "display_data"
    }
   ],
   "source": [
    "# Extracting hour from trn_time\n",
    "data['hour'] = data['trn_time'] // 10000\n",
    "\n",
    "#Plot count of transaction by hour\n",
    "import matplotlib.pyplot as plt\n",
    "import seaborn as sns\n",
    "plt.figure(figsize=(4,2))\n",
    "sns.countplot(x='hour', data=data, hue= 'hour', palette='plasma', legend=False)\n",
    "plt.title('Transaction Volume by Time of Day')\n",
    "plt.xlabel('Time of Day')\n",
    "plt.ylabel('No. of transaction')\n",
    "plt.xticks(rotation=45)\n",
    "plt.grid(axis='y',linestyle='--')\n",
    "plt.tight_layout()\n",
    "plt.show()\n",
    "\n",
    "#Extract day from trn_dt\n",
    "data['dayOfweek']=data['trn_dt'].dt.day_name()\n",
    "\n",
    "#Plot count of transaction by day of week\n",
    "plt.figure(figsize=(4,2))\n",
    "sns.countplot(x='dayOfweek', data=data, order=['Monday', 'Tuesday', 'Wednesday', 'Thursday','Friday', 'Saturday', 'Sunday'], hue='dayOfweek', palette='plasma', legend=False)\n",
    "plt.title('Transaction Volume by Day of Week')\n",
    "plt.xlabel('Day of Week')\n",
    "plt.ylabel('No. of transaction')\n",
    "plt.xticks(rotation=45)\n",
    "plt.grid(axis='y', linestyle='--')\n",
    "plt.tight_layout()\n",
    "plt.show()\n"
   ]
  },
  {
   "cell_type": "markdown",
   "id": "ab7681d8-2e74-4e87-8100-e6205f09aa91",
   "metadata": {},
   "source": [
    "3. Banking Context: Malaysia-Specific Transactions\n",
    "   \n",
    "(a) What aspects of the dataset reflect banking transactions unique to Malaysia?\n",
    "\n",
    "    1. Channel code (chn): IB, ATM, MB refer to Internet Banking, Automated Teller Machine, and Mobile Banking which is common in Malaysia's banking ecosystem.\n",
    "    2. Transaction Descriptions (trn_desc):\n",
    "    Descriptions like \"FUND TRANSFER\", \"PAYMENT\", \"TOP-UP\" align with common local banking services in Malaysia (e.g., DuitNow, JomPAY, reloads).\n",
    "    3. Branch Codes (brn_cd): Where these represent the actual bank branch codes in Malaysia.\n",
    "\n",
    "\n",
    "(b) If you could add one more column to better represent banking transactions in Malaysia, what would it be and why?\n",
    "\n",
    "    Region column. \n",
    "    \n",
    "    It's useful for fraud detection where it allows to track any unusual transactions like high-value payments in the regions. Furthermore, it is also helpful for market analysis which able to identify regional trends as more cash withdrawals in rural areas versus digital payments in the cities.\n"
   ]
  },
  {
   "cell_type": "markdown",
   "id": "8c8b6061-5f91-462e-ab78-c6bd41426445",
   "metadata": {},
   "source": [
    "Part 2: Dataset Analysis\n",
    "\n",
    "1. Customer Behaviour Analysis\n",
    "\n",
    "    a) Which transaction channel is used the most, and why do you think that is?"
   ]
  },
  {
   "cell_type": "code",
   "execution_count": 25,
   "id": "d6c6c283-256e-4c7e-a49b-3463cd1edf73",
   "metadata": {},
   "outputs": [
    {
     "data": {
      "image/png": "[encoded data removed]",
      "text/plain": [
       "<Figure size 400x200 with 1 Axes>"
      ]
     },
     "metadata": {},
     "output_type": "display_data"
    }
   ],
   "source": [
    "# Transaction channel used the most\n",
    "import matplotlib.pyplot as plt\n",
    "import seaborn as sns\n",
    "plt.figure(figsize=(4,2))\n",
    "sns.countplot(x='chn', data=data, hue= 'chn', palette='plasma', legend=False)\n",
    "plt.title('Most Used Transaction Channel')\n",
    "plt.xlabel('Transaction Channel')\n",
    "plt.ylabel('No. of transaction')\n",
    "plt.xticks(rotation=45)\n",
    "plt.grid(axis='y',linestyle='--')\n",
    "plt.tight_layout()\n",
    "plt.show()"
   ]
  },
  {
   "cell_type": "markdown",
   "id": "3f9a8213-ef40-4864-a99e-183f4f552c6f",
   "metadata": {},
   "source": [
    "Summary :\n",
    "\n",
    "The countplot above shows that the most frequently used transaction channel is Internet Banking (IB)\n",
    "\n",
    "This is possibly due to the increasing popularity and convenience of online banking services in Malaysia. With widespread usage of smartphone, improved internet access, and digitalization of financial services through easily accessible mobile apps and website with just few clicks, many users prefer to do transaction via online platforms rather than visiting physical branches or ATMs.\n",
    "\n"
   ]
  },
  {
   "cell_type": "markdown",
   "id": "410c9381-de2e-43d0-9dcb-9034ba1cd113",
   "metadata": {},
   "source": [
    "b) Identify one key transaction trend or pattern in your dataset. Why is this trend important?\n",
    "\n",
    "    - Key Trend: Transaction Volume by Time of Day & Day of Week\n",
    "\n",
    "    Based on the analysis of the dataset, two significant trends are observed:\n",
    "\n",
    "    1. Peak Transaction Volume Around Midday (10 AM to 2 PM): Transactions are most frequent during the midday hours, where it indicate that users tend to do transactions during their working hours. \n",
    "    2. Higher Transaction Volume on Weekdays (Monday to Friday): The dataset shows that the number of transactions is significantly higher on weekdays compared to weekends. This is likely due to work-related transactions, business operations, and regular financial activities that run primarily on weekdays.\n",
    "\n"
   ]
  },
  {
   "cell_type": "markdown",
   "id": "d6ffb980-d921-479a-804b-f2a2ba530a16",
   "metadata": {},
   "source": [
    "2. Transaction Insights\n",
    "\n",
    "   (a) If you were asked to forecast transaction trends for the next quarter, what factors would you consider, and what approach would you take?\n",
    "\n",
    "    To forecast transaction trends for the next quarter, I would consider the following factors:\n",
    "\n",
    "    - Historical Transaction Data: Past transaction amounts, frequency, and seasonality like festivals, holiday and weekend spikes.\n",
    "    - Economic & Market Conditions: Inflation rates, consumer spending trends, and industry-specific influences like retails, travel seasonality\n",
    "    - Customer Behavior: Purchasing patterns, customer segments and loyalty trends.\n",
    "    - Promotions & External Events: Discounts, marketing campaigns, or monthly or weekly events that could impact spending.\n",
    "      \n",
    "    \n",
    "    (b) Describe the methodology you would use (e.g., statistical methods, machine learning, business intuition).\n",
    "\n",
    "    - Methodology for Forecasting\n",
    "        - 1. Data Preparation: Clean data such as handle missing values, remove outliers if needed. Additionally, aggregate transactions by day/week/month for trend analysis.\n",
    "        - 2. Exploratory Analysis (EDA\n",
    "        - 3. Forecasting Approach: Time Series Models, Machine Learning and Deep Learning"
   ]
  },
  {
   "cell_type": "markdown",
   "id": "b8cc2d92-091f-4dfe-97bd-dc8651bb0807",
   "metadata": {},
   "source": [
    "3. Technical Considerations & Data Quality\n",
    "\n",
    "   (a) What are some potential data quality issues that could arise when collecting transaction data? How would you address them?\n",
    "    1. Missing Data\n",
    "       - Issue: Transactions with null/blank values\n",
    "       - Causes: Possibly due to system errors during recording, manual entry mistakes and network failures during the data transmission.\n",
    "       - Possible solutions:\n",
    "            1. Fill missing numerical values\n",
    "            2. Drop incomplete data records if negligible\n",
    "\n",
    "    2. Duplicate Transactions\n",
    "        - Issue: Same transaction recorded multiple times (e.g., due to system retries or batch errors).\n",
    "        - Causes: Possibly due to payment processing retries.\n",
    "       - Possible solutions:\n",
    "            1. Use unique keys to filter duplicates.\n",
    "\n",
    "    3. Outliers & Anomalies\n",
    "        - Issue: Extreme values that distorting trends.\n",
    "        - Causes: Might be due to fraudulent activity or data entry errors\n",
    "        - Possible solutions:\n",
    "            1. Remove values IQR bounds\n",
    "            2. Set min/max thresholds\n",
    "\n",
    "    (b) Write one SQL query to gain insight from your dataset (e.g., finding the most active customers, detecting large transactions). Explain what your query does and why it is useful.\n",
    "\n",
    "        SELECT \n",
    "            cus_no,\n",
    "            COUNT(*) AS TotalTransaction,\n",
    "            MAX(amt) AS LargestTransaction\n",
    "        FROM data\n",
    "        GROUP BY cus_no\n",
    "        ORDER BY TotalTransaction DESC\n",
    "\n",
    "        - This query allows to groups the transactions by cus_no (customer ID) to analyze each customer's activity.\n",
    "        - This query useful in identifying the high-value customers through total_spent and transaction_count that highlight customers' loyalty or targeted marketing. Furthermore, it also able to detect the customer spending patterns. Lastly, a high LargestTransaction might indicate fraud or bulk purchases."
   ]
  },
  {
   "cell_type": "markdown",
   "id": "8ac7fbd1-0797-49ef-8e44-0921954ef6da",
   "metadata": {},
   "source": [
    "4. Banking Context: Malaysia-Specific Transactions\n",
    "\n",
    "(a) What aspects of the dataset reflect banking transactions unique to Malaysia?\n",
    "\n",
    "    1. Channel code (chn): IB, ATM, MB refer to Internet Banking, Automated Teller Machine, and Mobile Banking which is common in Malaysia's banking ecosystem.\n",
    "    2. Transaction Descriptions (trn_desc):\n",
    "    Descriptions like \"FUND TRANSFER\", \"PAYMENT\", \"TOP-UP\" align with common local banking services in Malaysia (e.g., DuitNow, JomPAY, reloads).\n",
    "    3. Branch Codes (brn_cd): Where these represent the actual bank branch codes in Malaysia.\n",
    "   \n",
    "(b) If you could add one more column to better represent banking transactions in Malaysia, what would it be and why?\n",
    "\n",
    "    Region column. \n",
    "    \n",
    "    It's useful for fraud detection where it allows to track any unusual transactions like high-value payments in the regions. Furthermore, it is also helpful for market analysis which able to identify regional trends as more cash withdrawals in rural areas versus digital payments in the cities.\n"
   ]
  },
  {
   "cell_type": "markdown",
   "id": "9012930d-60d4-4545-80a2-78f68b0f5f4a",
   "metadata": {},
   "source": [
    "5. SQL Challenge:\n",
    "\n",
    "The bank wants to identify customers who have made multiple high-value withdrawals (above RM 5,000) in a row on different days, without deposits in between.\n",
    "    \n",
    "(a) Write an SQL query to find all accounts that have at least three consecutive withdrawal transactions exceeding RM 5,000, ordered by transaction date.\n",
    "\n",
    "    SELECT acc_no FROM data\n",
    "    WHERE trn_type = \"DEBIT\" AND amt > 5000\n",
    "    GROUP BY acc_no\n",
    "    HAVING COUNT(DISTINCT trn_dt) >= 3;\n",
    "\n",
    "(b) Modify your query to detect four or more consecutive withdrawals instead of three.\n",
    "\n",
    "    SELECT acc_no FROM data\n",
    "    WHERE trn_type = \"DEBIT\" AND amt > 5000\n",
    "    GROUP BY acc_no\n",
    "    HAVING COUNT(DISTINCT trn_dt) >= 4;"
   ]
  }
 ],
 "metadata": {
  "kernelspec": {
   "display_name": "Python 3 (ipykernel)",
   "language": "python",
   "name": "python3"
  },
  "language_info": {
   "codemirror_mode": {
    "name": "ipython",
    "version": 3
   },
   "file_extension": ".py",
   "mimetype": "text/x-python",
   "name": "python",
   "nbconvert_exporter": "python",
   "pygments_lexer": "ipython3",
   "version": "3.12.7"
  }
 },
 "nbformat": 4,
 "nbformat_minor": 5
}
